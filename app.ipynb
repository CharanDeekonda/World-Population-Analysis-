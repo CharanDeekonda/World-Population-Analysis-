{
 "cells": [
  {
   "cell_type": "markdown",
   "id": "23088686-bf23-4ab9-934a-c477c0c6ac2d",
   "metadata": {},
   "source": [
    "# Flask App.py"
   ]
  },
  {
   "cell_type": "code",
   "execution_count": 1,
   "id": "29587d51-ee2d-4894-af6b-8c2b41494513",
   "metadata": {},
   "outputs": [
    {
     "name": "stdout",
     "output_type": "stream",
     "text": [
      "Requirement already satisfied: flask in c:\\users\\91834\\appdata\\local\\programs\\python\\python310\\lib\\site-packages (3.0.3)\n",
      "Requirement already satisfied: Werkzeug>=3.0.0 in c:\\users\\91834\\appdata\\local\\programs\\python\\python310\\lib\\site-packages (from flask) (3.0.3)\n",
      "Requirement already satisfied: Jinja2>=3.1.2 in c:\\users\\91834\\appdata\\local\\programs\\python\\python310\\lib\\site-packages (from flask) (3.1.2)\n",
      "Requirement already satisfied: itsdangerous>=2.1.2 in c:\\users\\91834\\appdata\\local\\programs\\python\\python310\\lib\\site-packages (from flask) (2.2.0)\n",
      "Requirement already satisfied: click>=8.1.3 in c:\\users\\91834\\appdata\\local\\programs\\python\\python310\\lib\\site-packages (from flask) (8.1.7)\n",
      "Requirement already satisfied: blinker>=1.6.2 in c:\\users\\91834\\appdata\\local\\programs\\python\\python310\\lib\\site-packages (from flask) (1.8.2)\n",
      "Requirement already satisfied: colorama in c:\\users\\91834\\appdata\\local\\programs\\python\\python310\\lib\\site-packages (from click>=8.1.3->flask) (0.4.6)\n",
      "Requirement already satisfied: MarkupSafe>=2.0 in c:\\users\\91834\\appdata\\local\\programs\\python\\python310\\lib\\site-packages (from Jinja2>=3.1.2->flask) (2.1.2)\n",
      "Note: you may need to restart the kernel to use updated packages.\n"
     ]
    },
    {
     "name": "stderr",
     "output_type": "stream",
     "text": [
      "\n",
      "[notice] A new release of pip is available: 24.3.1 -> 25.0\n",
      "[notice] To update, run: python.exe -m pip install --upgrade pip\n"
     ]
    }
   ],
   "source": [
    "pip install flask"
   ]
  },
  {
   "cell_type": "code",
   "execution_count": 1,
   "id": "bb4dd2a2-ebd6-4192-9a60-4091fb1916a7",
   "metadata": {},
   "outputs": [
    {
     "name": "stdout",
     "output_type": "stream",
     "text": [
      " * Serving Flask app '__main__'\n",
      " * Debug mode: on\n"
     ]
    },
    {
     "name": "stderr",
     "output_type": "stream",
     "text": [
      "WARNING: This is a development server. Do not use it in a production deployment. Use a production WSGI server instead.\n",
      " * Running on http://127.0.0.1:5000\n",
      "Press CTRL+C to quit\n",
      "127.0.0.1 - - [05/Feb/2025 21:05:55] \"GET / HTTP/1.1\" 200 -\n",
      "127.0.0.1 - - [05/Feb/2025 21:05:57] \"GET /favicon.ico HTTP/1.1\" 404 -\n",
      "C:\\Users\\91834\\AppData\\Local\\Programs\\Python\\Python310\\lib\\site-packages\\sklearn\\base.py:493: UserWarning: X does not have valid feature names, but StandardScaler was fitted with feature names\n",
      "  warnings.warn(\n",
      "127.0.0.1 - - [05/Feb/2025 21:06:20] \"POST /predict HTTP/1.1\" 200 -\n",
      "127.0.0.1 - - [05/Feb/2025 21:06:28] \"GET / HTTP/1.1\" 200 -\n",
      "C:\\Users\\91834\\AppData\\Local\\Programs\\Python\\Python310\\lib\\site-packages\\sklearn\\base.py:493: UserWarning:\n",
      "\n",
      "X does not have valid feature names, but StandardScaler was fitted with feature names\n",
      "\n",
      "127.0.0.1 - - [05/Feb/2025 21:06:54] \"POST /predict HTTP/1.1\" 200 -\n",
      "127.0.0.1 - - [05/Feb/2025 21:06:58] \"GET / HTTP/1.1\" 200 -\n",
      "C:\\Users\\91834\\AppData\\Local\\Programs\\Python\\Python310\\lib\\site-packages\\sklearn\\base.py:493: UserWarning:\n",
      "\n",
      "X does not have valid feature names, but StandardScaler was fitted with feature names\n",
      "\n",
      "127.0.0.1 - - [05/Feb/2025 21:07:47] \"POST /predict HTTP/1.1\" 200 -\n"
     ]
    }
   ],
   "source": [
    "from flask import Flask, render_template, request\n",
    "import joblib\n",
    "import pandas as pd\n",
    "import plotly.express as px\n",
    "\n",
    "# Load the trained model and scaler\n",
    "model = joblib.load('World_Population_Analysis.pkl')  # Update with your model filename\n",
    "scaler = joblib.load('scaler.pkl')  # Update with your scaler filename\n",
    "\n",
    "# Load dataset for related countries and visualization\n",
    "data = pd.read_csv('world_population.csv')\n",
    "\n",
    "# Function to predict population based on input features\n",
    "def predict_population(features):\n",
    "    features_scaled = scaler.transform([features])  # Scale input features\n",
    "    return model.predict(features_scaled)[0]  # Predict population\n",
    "\n",
    "app = Flask(__name__)\n",
    "\n",
    "# Route for the homepage\n",
    "@app.route('/')\n",
    "def index():\n",
    "    return render_template('index.html')\n",
    "\n",
    "# Route for handling the form submission\n",
    "@app.route('/predict', methods=['POST'])\n",
    "def predict():\n",
    "    if request.method == 'POST':\n",
    "        try:\n",
    "            # Extract input data from the form\n",
    "            growth_rate = float(request.form['growth_rate'])\n",
    "            density = float(request.form['density'])\n",
    "            avg_population = float(request.form['avg_population'])\n",
    "            area = float(request.form['area'])\n",
    "\n",
    "            # Prepare the features for prediction\n",
    "            features = [growth_rate, density, avg_population, area]\n",
    "            \n",
    "            # Predict population\n",
    "            prediction = predict_population(features)\n",
    "\n",
    "            # Find related countries with similar populations\n",
    "            matching_countries = data[\n",
    "                abs(data['2022 Population'] - prediction) < 50000000  # ±50M margin\n",
    "            ][['Country/Territory', '2022 Population']].head(50)\n",
    "\n",
    "            # Generate Pie Chart\n",
    "            pie_fig = px.pie(matching_countries, names='Country/Territory', values='2022 Population',\n",
    "                              title=\"Population Distribution of Related Countries\")\n",
    "            pie_chart_html = pie_fig.to_html(full_html=False)\n",
    "\n",
    "            # Generate Bar Chart\n",
    "            bar_fig = px.bar(matching_countries, x='Country/Territory', y='2022 Population',\n",
    "                              title=\"Comparison of Related Country Populations\")\n",
    "            bar_chart_html = bar_fig.to_html(full_html=False)\n",
    "\n",
    "            # Render result page with added charts\n",
    "            return render_template('result.html', \n",
    "                                   prediction=int(prediction), \n",
    "                                   countries=matching_countries.to_dict(orient='records'),\n",
    "                                   pie_chart=pie_chart_html,\n",
    "                                   bar_chart=bar_chart_html)\n",
    "        except Exception as e:\n",
    "            return f\"Error occurred: {e}\"\n",
    "\n",
    "if __name__ == '__main__':\n",
    "    app.run(debug=True, use_reloader=False)\n"
   ]
  },
  {
   "cell_type": "code",
   "execution_count": null,
   "id": "efc0f3ce-2610-4abe-9299-aa4923fe09c8",
   "metadata": {},
   "outputs": [],
   "source": []
  }
 ],
 "metadata": {
  "kernelspec": {
   "display_name": "Python 3 (ipykernel)",
   "language": "python",
   "name": "python3"
  },
  "language_info": {
   "codemirror_mode": {
    "name": "ipython",
    "version": 3
   },
   "file_extension": ".py",
   "mimetype": "text/x-python",
   "name": "python",
   "nbconvert_exporter": "python",
   "pygments_lexer": "ipython3",
   "version": "3.10.11"
  }
 },
 "nbformat": 4,
 "nbformat_minor": 5
}
